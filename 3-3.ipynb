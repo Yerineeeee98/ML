{
 "cells": [
  {
   "cell_type": "code",
   "execution_count": 1,
   "id": "6eb3e96d-b0ae-4fa7-912d-ebb014386b5e",
   "metadata": {},
   "outputs": [
    {
     "data": {
      "text/html": [
       "<div>\n",
       "<style scoped>\n",
       "    .dataframe tbody tr th:only-of-type {\n",
       "        vertical-align: middle;\n",
       "    }\n",
       "\n",
       "    .dataframe tbody tr th {\n",
       "        vertical-align: top;\n",
       "    }\n",
       "\n",
       "    .dataframe thead th {\n",
       "        text-align: right;\n",
       "    }\n",
       "</style>\n",
       "<table border=\"1\" class=\"dataframe\">\n",
       "  <thead>\n",
       "    <tr style=\"text-align: right;\">\n",
       "      <th></th>\n",
       "      <th>Species</th>\n",
       "      <th>Weight</th>\n",
       "      <th>Length1</th>\n",
       "      <th>Length2</th>\n",
       "      <th>Length3</th>\n",
       "      <th>Height</th>\n",
       "      <th>Width</th>\n",
       "    </tr>\n",
       "  </thead>\n",
       "  <tbody>\n",
       "    <tr>\n",
       "      <th>72</th>\n",
       "      <td>Perch</td>\n",
       "      <td>5.9</td>\n",
       "      <td>7.5</td>\n",
       "      <td>8.4</td>\n",
       "      <td>8.8</td>\n",
       "      <td>2.1120</td>\n",
       "      <td>1.4080</td>\n",
       "    </tr>\n",
       "    <tr>\n",
       "      <th>73</th>\n",
       "      <td>Perch</td>\n",
       "      <td>32.0</td>\n",
       "      <td>12.5</td>\n",
       "      <td>13.7</td>\n",
       "      <td>14.7</td>\n",
       "      <td>3.5280</td>\n",
       "      <td>1.9992</td>\n",
       "    </tr>\n",
       "    <tr>\n",
       "      <th>74</th>\n",
       "      <td>Perch</td>\n",
       "      <td>40.0</td>\n",
       "      <td>13.8</td>\n",
       "      <td>15.0</td>\n",
       "      <td>16.0</td>\n",
       "      <td>3.8240</td>\n",
       "      <td>2.4320</td>\n",
       "    </tr>\n",
       "    <tr>\n",
       "      <th>75</th>\n",
       "      <td>Perch</td>\n",
       "      <td>51.5</td>\n",
       "      <td>15.0</td>\n",
       "      <td>16.2</td>\n",
       "      <td>17.2</td>\n",
       "      <td>4.5924</td>\n",
       "      <td>2.6316</td>\n",
       "    </tr>\n",
       "    <tr>\n",
       "      <th>76</th>\n",
       "      <td>Perch</td>\n",
       "      <td>70.0</td>\n",
       "      <td>15.7</td>\n",
       "      <td>17.4</td>\n",
       "      <td>18.5</td>\n",
       "      <td>4.5880</td>\n",
       "      <td>2.9415</td>\n",
       "    </tr>\n",
       "  </tbody>\n",
       "</table>\n",
       "</div>"
      ],
      "text/plain": [
       "   Species  Weight  Length1  Length2  Length3  Height   Width\n",
       "72   Perch     5.9      7.5      8.4      8.8  2.1120  1.4080\n",
       "73   Perch    32.0     12.5     13.7     14.7  3.5280  1.9992\n",
       "74   Perch    40.0     13.8     15.0     16.0  3.8240  2.4320\n",
       "75   Perch    51.5     15.0     16.2     17.2  4.5924  2.6316\n",
       "76   Perch    70.0     15.7     17.4     18.5  4.5880  2.9415"
      ]
     },
     "execution_count": 1,
     "metadata": {},
     "output_type": "execute_result"
    }
   ],
   "source": [
    "import pandas as pd\n",
    "df = pd.read_csv('data/Fish.csv')\n",
    "perch_df = df.loc[df['Species'] == 'Perch']\n",
    "perch_df.head()"
   ]
  },
  {
   "cell_type": "markdown",
   "id": "4d2e8f61-eba2-4427-bbd0-2534377775da",
   "metadata": {},
   "source": [
    "#### 다중회귀\n",
    "- 선형 회귀는 특성이 많을수록 효과가 큼 \n",
    "- 앞선 3-2에선 농어의 길이와 길이를 제곱해서 다항회귀로 했음 (하나의 특성만 사용) \n",
    "- 3-3 에서는 높이와 두께의 길이도 함께가진 (여러개의 특성 사용) 다중회귀 모델을 사용"
   ]
  },
  {
   "cell_type": "code",
   "execution_count": 2,
   "id": "59ddbd2c-49a5-46b7-9b75-d059cf44c751",
   "metadata": {},
   "outputs": [],
   "source": [
    "perch_full = perch_df[['Length2', 'Height', 'Width']] # x의 여러값들\n",
    "perch_weight = perch_df[['Weight']] # y의 값"
   ]
  },
  {
   "cell_type": "code",
   "execution_count": 3,
   "id": "036c29d6-6046-477e-b52b-8bbf62bf9562",
   "metadata": {},
   "outputs": [],
   "source": [
    "from sklearn.model_selection import train_test_split\n",
    "train_input, test_input, train_target, test_target = \\\n",
    "train_test_split(perch_full, perch_weight)"
   ]
  },
  {
   "cell_type": "markdown",
   "id": "ad835b35-7b1b-4ee8-ad57-caecee3f624c",
   "metadata": {},
   "source": [
    "# PolynomialFeatures : 다중 회귀를 구현할 때 사용하는 특성 변환기\n",
    "    - 원래의 특성들에 대해 다항식을 생성함\n",
    "    - 특성공학 : 주어진 특성들을 조합하여 새로운 특성을 만드는 일련의 작업 과정\n",
    "    "
   ]
  },
  {
   "cell_type": "code",
   "execution_count": 4,
   "id": "28c14bff-fb38-4e02-846b-756a3891be6d",
   "metadata": {},
   "outputs": [
    {
     "data": {
      "text/plain": [
       "array([[ 3.,  5.,  9., 15., 25.]])"
      ]
     },
     "execution_count": 4,
     "metadata": {},
     "output_type": "execute_result"
    }
   ],
   "source": [
    "from sklearn.preprocessing import PolynomialFeatures # 특성을 주면 그 특성으로 만들 수 있는 여러가지를 만듦\n",
    "# 각 특성을 제곱한 항을 추가하고 특성끼리 서로 곱한 항을 추가\n",
    "# 무게 = a * 길이 + b * 높이 + c * 두께 + d *1\n",
    "poly = PolynomialFeatures(include_bias=False) # d * 1에서 1을 빼기위해 iclue_bias = False를 함\n",
    "poly.fit([[3, 5]]) # 2개의 특성을 가진 3과 5로 이루어진 샘플 하나 3 = 길이, 5 = 무게\n",
    "# 두개의 특성만 사용하는 이유 : 모델 단순화, 데이터의 관계와 목표에 맞는 특성 선택\n",
    "\n",
    "# 훈련을 해야 변환이 가능하기 때문에 변환 전에 훈련 꼭 하기\n",
    "poly.transform([[3, 5]]) # 학습된 내용을 바탕으로 데이터를 변환\n",
    "# 5개의 특성을 가진 샘플 [[ 3.,  5.,  9., 15., 25.]] 로 바뀜\n",
    "# 3과 5를 각각 제곱한 9와 25가 추가되고, 3과 5를 곱한 15가 추가"
   ]
  },
  {
   "cell_type": "code",
   "execution_count": 5,
   "id": "af57047d-8050-4a80-baab-0c7498caf1d4",
   "metadata": {},
   "outputs": [
    {
     "data": {
      "text/plain": [
       "(42, 9)"
      ]
     },
     "execution_count": 5,
     "metadata": {},
     "output_type": "execute_result"
    }
   ],
   "source": [
    "# 위에 방식으로 poly로 변환하기\n",
    "poly = PolynomialFeatures(include_bias = False)\n",
    "poly.fit(train_input)\n",
    "train_poly = poly.transform(train_input)\n",
    "train_poly[:5]\n",
    "\n",
    "train_poly.shape # 42마리의 생선과 9개의 특성"
   ]
  },
  {
   "cell_type": "code",
   "execution_count": 6,
   "id": "dff37e1b-dfbd-4318-8607-b78791df027b",
   "metadata": {},
   "outputs": [
    {
     "data": {
      "text/plain": [
       "array(['Length2', 'Height', 'Width', 'Length2^2', 'Length2 Height',\n",
       "       'Length2 Width', 'Height^2', 'Height Width', 'Width^2'],\n",
       "      dtype=object)"
      ]
     },
     "execution_count": 6,
     "metadata": {},
     "output_type": "execute_result"
    }
   ],
   "source": [
    "poly.get_feature_names_out() # 9개의 특성을 가지고있는걸 보여줌 \n",
    "# 각각 특성들의 제곱, 각각 특성들을 서로 곱한것들이 추가"
   ]
  },
  {
   "cell_type": "code",
   "execution_count": 7,
   "id": "0fa7347f-f6e6-40c9-ba37-07158170598e",
   "metadata": {},
   "outputs": [],
   "source": [
    "### 다중 회귀 모델을 훈련하는 것은 선형 회귀 모델을 훈련하는 것과 같음\n",
    "### 다만 여러 개의 특성을 사용하여 선형 회귀를 수행하는 것 뿐"
   ]
  },
  {
   "cell_type": "code",
   "execution_count": 8,
   "id": "a0cca78c-49c7-4577-af58-df4556e3449d",
   "metadata": {},
   "outputs": [
    {
     "data": {
      "text/plain": [
       "0.9930549498823967"
      ]
     },
     "execution_count": 8,
     "metadata": {},
     "output_type": "execute_result"
    }
   ],
   "source": [
    "from sklearn.linear_model import LinearRegression\n",
    "\n",
    "lr = LinearRegression()\n",
    "lr.fit(train_poly, train_target)\n",
    "lr.score(train_poly, train_target)"
   ]
  },
  {
   "cell_type": "code",
   "execution_count": 9,
   "id": "ee06e795-a49d-44c9-9b97-d0ef77e81c89",
   "metadata": {},
   "outputs": [],
   "source": [
    "test_poly = poly.transform(test_input)"
   ]
  },
  {
   "cell_type": "code",
   "execution_count": 10,
   "id": "90cff65c-b85f-4043-b1e4-b792f179830c",
   "metadata": {},
   "outputs": [
    {
     "data": {
      "text/plain": [
       "0.9527090975091655"
      ]
     },
     "execution_count": 10,
     "metadata": {},
     "output_type": "execute_result"
    }
   ],
   "source": [
    "lr.score(test_poly, test_target)"
   ]
  },
  {
   "cell_type": "code",
   "execution_count": 11,
   "id": "9f2f1fe5-5dba-42aa-91d0-d154b6e8c648",
   "metadata": {},
   "outputs": [],
   "source": [
    "# a * 길이 + b * 높이 + c * 너비 + d * 길이 ** 2 + e * 높이 * 길이 # 여러가지의 데이터를 만듦"
   ]
  },
  {
   "cell_type": "code",
   "execution_count": 12,
   "id": "1bc474e8-fcee-4132-b8ab-8cfb201ca552",
   "metadata": {},
   "outputs": [
    {
     "data": {
      "text/plain": [
       "(42, 55)"
      ]
     },
     "execution_count": 12,
     "metadata": {},
     "output_type": "execute_result"
    }
   ],
   "source": [
    "poly = PolynomialFeatures(degree = 5, include_bias = False) # degree는 5제곱까지 특성으로 만들 수 있음\n",
    "poly.fit(train_input)\n",
    "train_poly = poly.transform(train_input)\n",
    "test_poly = poly.transform(test_input)\n",
    "train_poly.shape # 만들어진 특성의 개수가 55개가 됨 열의 개수 = 특성의 개수"
   ]
  },
  {
   "cell_type": "code",
   "execution_count": 13,
   "id": "2f67a3e6-6d01-48e3-b771-1dd2fb4ffe8f",
   "metadata": {},
   "outputs": [
    {
     "data": {
      "text/html": [
       "<style>#sk-container-id-1 {\n",
       "  /* Definition of color scheme common for light and dark mode */\n",
       "  --sklearn-color-text: #000;\n",
       "  --sklearn-color-text-muted: #666;\n",
       "  --sklearn-color-line: gray;\n",
       "  /* Definition of color scheme for unfitted estimators */\n",
       "  --sklearn-color-unfitted-level-0: #fff5e6;\n",
       "  --sklearn-color-unfitted-level-1: #f6e4d2;\n",
       "  --sklearn-color-unfitted-level-2: #ffe0b3;\n",
       "  --sklearn-color-unfitted-level-3: chocolate;\n",
       "  /* Definition of color scheme for fitted estimators */\n",
       "  --sklearn-color-fitted-level-0: #f0f8ff;\n",
       "  --sklearn-color-fitted-level-1: #d4ebff;\n",
       "  --sklearn-color-fitted-level-2: #b3dbfd;\n",
       "  --sklearn-color-fitted-level-3: cornflowerblue;\n",
       "\n",
       "  /* Specific color for light theme */\n",
       "  --sklearn-color-text-on-default-background: var(--sg-text-color, var(--theme-code-foreground, var(--jp-content-font-color1, black)));\n",
       "  --sklearn-color-background: var(--sg-background-color, var(--theme-background, var(--jp-layout-color0, white)));\n",
       "  --sklearn-color-border-box: var(--sg-text-color, var(--theme-code-foreground, var(--jp-content-font-color1, black)));\n",
       "  --sklearn-color-icon: #696969;\n",
       "\n",
       "  @media (prefers-color-scheme: dark) {\n",
       "    /* Redefinition of color scheme for dark theme */\n",
       "    --sklearn-color-text-on-default-background: var(--sg-text-color, var(--theme-code-foreground, var(--jp-content-font-color1, white)));\n",
       "    --sklearn-color-background: var(--sg-background-color, var(--theme-background, var(--jp-layout-color0, #111)));\n",
       "    --sklearn-color-border-box: var(--sg-text-color, var(--theme-code-foreground, var(--jp-content-font-color1, white)));\n",
       "    --sklearn-color-icon: #878787;\n",
       "  }\n",
       "}\n",
       "\n",
       "#sk-container-id-1 {\n",
       "  color: var(--sklearn-color-text);\n",
       "}\n",
       "\n",
       "#sk-container-id-1 pre {\n",
       "  padding: 0;\n",
       "}\n",
       "\n",
       "#sk-container-id-1 input.sk-hidden--visually {\n",
       "  border: 0;\n",
       "  clip: rect(1px 1px 1px 1px);\n",
       "  clip: rect(1px, 1px, 1px, 1px);\n",
       "  height: 1px;\n",
       "  margin: -1px;\n",
       "  overflow: hidden;\n",
       "  padding: 0;\n",
       "  position: absolute;\n",
       "  width: 1px;\n",
       "}\n",
       "\n",
       "#sk-container-id-1 div.sk-dashed-wrapped {\n",
       "  border: 1px dashed var(--sklearn-color-line);\n",
       "  margin: 0 0.4em 0.5em 0.4em;\n",
       "  box-sizing: border-box;\n",
       "  padding-bottom: 0.4em;\n",
       "  background-color: var(--sklearn-color-background);\n",
       "}\n",
       "\n",
       "#sk-container-id-1 div.sk-container {\n",
       "  /* jupyter's `normalize.less` sets `[hidden] { display: none; }`\n",
       "     but bootstrap.min.css set `[hidden] { display: none !important; }`\n",
       "     so we also need the `!important` here to be able to override the\n",
       "     default hidden behavior on the sphinx rendered scikit-learn.org.\n",
       "     See: https://github.com/scikit-learn/scikit-learn/issues/21755 */\n",
       "  display: inline-block !important;\n",
       "  position: relative;\n",
       "}\n",
       "\n",
       "#sk-container-id-1 div.sk-text-repr-fallback {\n",
       "  display: none;\n",
       "}\n",
       "\n",
       "div.sk-parallel-item,\n",
       "div.sk-serial,\n",
       "div.sk-item {\n",
       "  /* draw centered vertical line to link estimators */\n",
       "  background-image: linear-gradient(var(--sklearn-color-text-on-default-background), var(--sklearn-color-text-on-default-background));\n",
       "  background-size: 2px 100%;\n",
       "  background-repeat: no-repeat;\n",
       "  background-position: center center;\n",
       "}\n",
       "\n",
       "/* Parallel-specific style estimator block */\n",
       "\n",
       "#sk-container-id-1 div.sk-parallel-item::after {\n",
       "  content: \"\";\n",
       "  width: 100%;\n",
       "  border-bottom: 2px solid var(--sklearn-color-text-on-default-background);\n",
       "  flex-grow: 1;\n",
       "}\n",
       "\n",
       "#sk-container-id-1 div.sk-parallel {\n",
       "  display: flex;\n",
       "  align-items: stretch;\n",
       "  justify-content: center;\n",
       "  background-color: var(--sklearn-color-background);\n",
       "  position: relative;\n",
       "}\n",
       "\n",
       "#sk-container-id-1 div.sk-parallel-item {\n",
       "  display: flex;\n",
       "  flex-direction: column;\n",
       "}\n",
       "\n",
       "#sk-container-id-1 div.sk-parallel-item:first-child::after {\n",
       "  align-self: flex-end;\n",
       "  width: 50%;\n",
       "}\n",
       "\n",
       "#sk-container-id-1 div.sk-parallel-item:last-child::after {\n",
       "  align-self: flex-start;\n",
       "  width: 50%;\n",
       "}\n",
       "\n",
       "#sk-container-id-1 div.sk-parallel-item:only-child::after {\n",
       "  width: 0;\n",
       "}\n",
       "\n",
       "/* Serial-specific style estimator block */\n",
       "\n",
       "#sk-container-id-1 div.sk-serial {\n",
       "  display: flex;\n",
       "  flex-direction: column;\n",
       "  align-items: center;\n",
       "  background-color: var(--sklearn-color-background);\n",
       "  padding-right: 1em;\n",
       "  padding-left: 1em;\n",
       "}\n",
       "\n",
       "\n",
       "/* Toggleable style: style used for estimator/Pipeline/ColumnTransformer box that is\n",
       "clickable and can be expanded/collapsed.\n",
       "- Pipeline and ColumnTransformer use this feature and define the default style\n",
       "- Estimators will overwrite some part of the style using the `sk-estimator` class\n",
       "*/\n",
       "\n",
       "/* Pipeline and ColumnTransformer style (default) */\n",
       "\n",
       "#sk-container-id-1 div.sk-toggleable {\n",
       "  /* Default theme specific background. It is overwritten whether we have a\n",
       "  specific estimator or a Pipeline/ColumnTransformer */\n",
       "  background-color: var(--sklearn-color-background);\n",
       "}\n",
       "\n",
       "/* Toggleable label */\n",
       "#sk-container-id-1 label.sk-toggleable__label {\n",
       "  cursor: pointer;\n",
       "  display: flex;\n",
       "  width: 100%;\n",
       "  margin-bottom: 0;\n",
       "  padding: 0.5em;\n",
       "  box-sizing: border-box;\n",
       "  text-align: center;\n",
       "  align-items: start;\n",
       "  justify-content: space-between;\n",
       "  gap: 0.5em;\n",
       "}\n",
       "\n",
       "#sk-container-id-1 label.sk-toggleable__label .caption {\n",
       "  font-size: 0.6rem;\n",
       "  font-weight: lighter;\n",
       "  color: var(--sklearn-color-text-muted);\n",
       "}\n",
       "\n",
       "#sk-container-id-1 label.sk-toggleable__label-arrow:before {\n",
       "  /* Arrow on the left of the label */\n",
       "  content: \"▸\";\n",
       "  float: left;\n",
       "  margin-right: 0.25em;\n",
       "  color: var(--sklearn-color-icon);\n",
       "}\n",
       "\n",
       "#sk-container-id-1 label.sk-toggleable__label-arrow:hover:before {\n",
       "  color: var(--sklearn-color-text);\n",
       "}\n",
       "\n",
       "/* Toggleable content - dropdown */\n",
       "\n",
       "#sk-container-id-1 div.sk-toggleable__content {\n",
       "  max-height: 0;\n",
       "  max-width: 0;\n",
       "  overflow: hidden;\n",
       "  text-align: left;\n",
       "  /* unfitted */\n",
       "  background-color: var(--sklearn-color-unfitted-level-0);\n",
       "}\n",
       "\n",
       "#sk-container-id-1 div.sk-toggleable__content.fitted {\n",
       "  /* fitted */\n",
       "  background-color: var(--sklearn-color-fitted-level-0);\n",
       "}\n",
       "\n",
       "#sk-container-id-1 div.sk-toggleable__content pre {\n",
       "  margin: 0.2em;\n",
       "  border-radius: 0.25em;\n",
       "  color: var(--sklearn-color-text);\n",
       "  /* unfitted */\n",
       "  background-color: var(--sklearn-color-unfitted-level-0);\n",
       "}\n",
       "\n",
       "#sk-container-id-1 div.sk-toggleable__content.fitted pre {\n",
       "  /* unfitted */\n",
       "  background-color: var(--sklearn-color-fitted-level-0);\n",
       "}\n",
       "\n",
       "#sk-container-id-1 input.sk-toggleable__control:checked~div.sk-toggleable__content {\n",
       "  /* Expand drop-down */\n",
       "  max-height: 200px;\n",
       "  max-width: 100%;\n",
       "  overflow: auto;\n",
       "}\n",
       "\n",
       "#sk-container-id-1 input.sk-toggleable__control:checked~label.sk-toggleable__label-arrow:before {\n",
       "  content: \"▾\";\n",
       "}\n",
       "\n",
       "/* Pipeline/ColumnTransformer-specific style */\n",
       "\n",
       "#sk-container-id-1 div.sk-label input.sk-toggleable__control:checked~label.sk-toggleable__label {\n",
       "  color: var(--sklearn-color-text);\n",
       "  background-color: var(--sklearn-color-unfitted-level-2);\n",
       "}\n",
       "\n",
       "#sk-container-id-1 div.sk-label.fitted input.sk-toggleable__control:checked~label.sk-toggleable__label {\n",
       "  background-color: var(--sklearn-color-fitted-level-2);\n",
       "}\n",
       "\n",
       "/* Estimator-specific style */\n",
       "\n",
       "/* Colorize estimator box */\n",
       "#sk-container-id-1 div.sk-estimator input.sk-toggleable__control:checked~label.sk-toggleable__label {\n",
       "  /* unfitted */\n",
       "  background-color: var(--sklearn-color-unfitted-level-2);\n",
       "}\n",
       "\n",
       "#sk-container-id-1 div.sk-estimator.fitted input.sk-toggleable__control:checked~label.sk-toggleable__label {\n",
       "  /* fitted */\n",
       "  background-color: var(--sklearn-color-fitted-level-2);\n",
       "}\n",
       "\n",
       "#sk-container-id-1 div.sk-label label.sk-toggleable__label,\n",
       "#sk-container-id-1 div.sk-label label {\n",
       "  /* The background is the default theme color */\n",
       "  color: var(--sklearn-color-text-on-default-background);\n",
       "}\n",
       "\n",
       "/* On hover, darken the color of the background */\n",
       "#sk-container-id-1 div.sk-label:hover label.sk-toggleable__label {\n",
       "  color: var(--sklearn-color-text);\n",
       "  background-color: var(--sklearn-color-unfitted-level-2);\n",
       "}\n",
       "\n",
       "/* Label box, darken color on hover, fitted */\n",
       "#sk-container-id-1 div.sk-label.fitted:hover label.sk-toggleable__label.fitted {\n",
       "  color: var(--sklearn-color-text);\n",
       "  background-color: var(--sklearn-color-fitted-level-2);\n",
       "}\n",
       "\n",
       "/* Estimator label */\n",
       "\n",
       "#sk-container-id-1 div.sk-label label {\n",
       "  font-family: monospace;\n",
       "  font-weight: bold;\n",
       "  display: inline-block;\n",
       "  line-height: 1.2em;\n",
       "}\n",
       "\n",
       "#sk-container-id-1 div.sk-label-container {\n",
       "  text-align: center;\n",
       "}\n",
       "\n",
       "/* Estimator-specific */\n",
       "#sk-container-id-1 div.sk-estimator {\n",
       "  font-family: monospace;\n",
       "  border: 1px dotted var(--sklearn-color-border-box);\n",
       "  border-radius: 0.25em;\n",
       "  box-sizing: border-box;\n",
       "  margin-bottom: 0.5em;\n",
       "  /* unfitted */\n",
       "  background-color: var(--sklearn-color-unfitted-level-0);\n",
       "}\n",
       "\n",
       "#sk-container-id-1 div.sk-estimator.fitted {\n",
       "  /* fitted */\n",
       "  background-color: var(--sklearn-color-fitted-level-0);\n",
       "}\n",
       "\n",
       "/* on hover */\n",
       "#sk-container-id-1 div.sk-estimator:hover {\n",
       "  /* unfitted */\n",
       "  background-color: var(--sklearn-color-unfitted-level-2);\n",
       "}\n",
       "\n",
       "#sk-container-id-1 div.sk-estimator.fitted:hover {\n",
       "  /* fitted */\n",
       "  background-color: var(--sklearn-color-fitted-level-2);\n",
       "}\n",
       "\n",
       "/* Specification for estimator info (e.g. \"i\" and \"?\") */\n",
       "\n",
       "/* Common style for \"i\" and \"?\" */\n",
       "\n",
       ".sk-estimator-doc-link,\n",
       "a:link.sk-estimator-doc-link,\n",
       "a:visited.sk-estimator-doc-link {\n",
       "  float: right;\n",
       "  font-size: smaller;\n",
       "  line-height: 1em;\n",
       "  font-family: monospace;\n",
       "  background-color: var(--sklearn-color-background);\n",
       "  border-radius: 1em;\n",
       "  height: 1em;\n",
       "  width: 1em;\n",
       "  text-decoration: none !important;\n",
       "  margin-left: 0.5em;\n",
       "  text-align: center;\n",
       "  /* unfitted */\n",
       "  border: var(--sklearn-color-unfitted-level-1) 1pt solid;\n",
       "  color: var(--sklearn-color-unfitted-level-1);\n",
       "}\n",
       "\n",
       ".sk-estimator-doc-link.fitted,\n",
       "a:link.sk-estimator-doc-link.fitted,\n",
       "a:visited.sk-estimator-doc-link.fitted {\n",
       "  /* fitted */\n",
       "  border: var(--sklearn-color-fitted-level-1) 1pt solid;\n",
       "  color: var(--sklearn-color-fitted-level-1);\n",
       "}\n",
       "\n",
       "/* On hover */\n",
       "div.sk-estimator:hover .sk-estimator-doc-link:hover,\n",
       ".sk-estimator-doc-link:hover,\n",
       "div.sk-label-container:hover .sk-estimator-doc-link:hover,\n",
       ".sk-estimator-doc-link:hover {\n",
       "  /* unfitted */\n",
       "  background-color: var(--sklearn-color-unfitted-level-3);\n",
       "  color: var(--sklearn-color-background);\n",
       "  text-decoration: none;\n",
       "}\n",
       "\n",
       "div.sk-estimator.fitted:hover .sk-estimator-doc-link.fitted:hover,\n",
       ".sk-estimator-doc-link.fitted:hover,\n",
       "div.sk-label-container:hover .sk-estimator-doc-link.fitted:hover,\n",
       ".sk-estimator-doc-link.fitted:hover {\n",
       "  /* fitted */\n",
       "  background-color: var(--sklearn-color-fitted-level-3);\n",
       "  color: var(--sklearn-color-background);\n",
       "  text-decoration: none;\n",
       "}\n",
       "\n",
       "/* Span, style for the box shown on hovering the info icon */\n",
       ".sk-estimator-doc-link span {\n",
       "  display: none;\n",
       "  z-index: 9999;\n",
       "  position: relative;\n",
       "  font-weight: normal;\n",
       "  right: .2ex;\n",
       "  padding: .5ex;\n",
       "  margin: .5ex;\n",
       "  width: min-content;\n",
       "  min-width: 20ex;\n",
       "  max-width: 50ex;\n",
       "  color: var(--sklearn-color-text);\n",
       "  box-shadow: 2pt 2pt 4pt #999;\n",
       "  /* unfitted */\n",
       "  background: var(--sklearn-color-unfitted-level-0);\n",
       "  border: .5pt solid var(--sklearn-color-unfitted-level-3);\n",
       "}\n",
       "\n",
       ".sk-estimator-doc-link.fitted span {\n",
       "  /* fitted */\n",
       "  background: var(--sklearn-color-fitted-level-0);\n",
       "  border: var(--sklearn-color-fitted-level-3);\n",
       "}\n",
       "\n",
       ".sk-estimator-doc-link:hover span {\n",
       "  display: block;\n",
       "}\n",
       "\n",
       "/* \"?\"-specific style due to the `<a>` HTML tag */\n",
       "\n",
       "#sk-container-id-1 a.estimator_doc_link {\n",
       "  float: right;\n",
       "  font-size: 1rem;\n",
       "  line-height: 1em;\n",
       "  font-family: monospace;\n",
       "  background-color: var(--sklearn-color-background);\n",
       "  border-radius: 1rem;\n",
       "  height: 1rem;\n",
       "  width: 1rem;\n",
       "  text-decoration: none;\n",
       "  /* unfitted */\n",
       "  color: var(--sklearn-color-unfitted-level-1);\n",
       "  border: var(--sklearn-color-unfitted-level-1) 1pt solid;\n",
       "}\n",
       "\n",
       "#sk-container-id-1 a.estimator_doc_link.fitted {\n",
       "  /* fitted */\n",
       "  border: var(--sklearn-color-fitted-level-1) 1pt solid;\n",
       "  color: var(--sklearn-color-fitted-level-1);\n",
       "}\n",
       "\n",
       "/* On hover */\n",
       "#sk-container-id-1 a.estimator_doc_link:hover {\n",
       "  /* unfitted */\n",
       "  background-color: var(--sklearn-color-unfitted-level-3);\n",
       "  color: var(--sklearn-color-background);\n",
       "  text-decoration: none;\n",
       "}\n",
       "\n",
       "#sk-container-id-1 a.estimator_doc_link.fitted:hover {\n",
       "  /* fitted */\n",
       "  background-color: var(--sklearn-color-fitted-level-3);\n",
       "}\n",
       "</style><div id=\"sk-container-id-1\" class=\"sk-top-container\"><div class=\"sk-text-repr-fallback\"><pre>LinearRegression()</pre><b>In a Jupyter environment, please rerun this cell to show the HTML representation or trust the notebook. <br />On GitHub, the HTML representation is unable to render, please try loading this page with nbviewer.org.</b></div><div class=\"sk-container\" hidden><div class=\"sk-item\"><div class=\"sk-estimator fitted sk-toggleable\"><input class=\"sk-toggleable__control sk-hidden--visually\" id=\"sk-estimator-id-1\" type=\"checkbox\" checked><label for=\"sk-estimator-id-1\" class=\"sk-toggleable__label fitted sk-toggleable__label-arrow\"><div><div>LinearRegression</div></div><div><a class=\"sk-estimator-doc-link fitted\" rel=\"noreferrer\" target=\"_blank\" href=\"https://scikit-learn.org/1.6/modules/generated/sklearn.linear_model.LinearRegression.html\">?<span>Documentation for LinearRegression</span></a><span class=\"sk-estimator-doc-link fitted\">i<span>Fitted</span></span></div></label><div class=\"sk-toggleable__content fitted\"><pre>LinearRegression()</pre></div> </div></div></div></div>"
      ],
      "text/plain": [
       "LinearRegression()"
      ]
     },
     "execution_count": 13,
     "metadata": {},
     "output_type": "execute_result"
    }
   ],
   "source": [
    "lr.fit(train_poly, train_target)"
   ]
  },
  {
   "cell_type": "code",
   "execution_count": 14,
   "id": "6e5c0e60-5b27-4f9c-a010-4cb09112be29",
   "metadata": {},
   "outputs": [
    {
     "name": "stdout",
     "output_type": "stream",
     "text": [
      "0.999999999995183\n",
      "-708.5140213277148\n"
     ]
    }
   ],
   "source": [
    "print(lr.score(train_poly, train_target))\n",
    "print(lr.score(test_poly, test_target)) \n",
    "# 특성의 개수를 크게 늘리면 훈련 세트에 대해 거의 완벽하게 학습할 수 있음\n",
    "# 모델이 훈련세트의 패턴뿐만 아니라 노이즈나 불필요한 세부사항까지 외워버려서 새로운 데이터(테스트 세트)에는 일반화 하지 못하는 상태\n",
    "# 하지만 이런 모델은 훈련 세트에 너무 과대적합 되므로 테스트 세트에서는 형편없는 점수를 만듦\n"
   ]
  },
  {
   "cell_type": "markdown",
   "id": "0f770127-a344-408c-aaa8-d9cb42a4fd45",
   "metadata": {},
   "source": [
    "##### 규제 : 머신러닝 모델이 훈련 세트를 너무 과도하게 학습하지 못하도록 훼방하는 것을 말함\n",
    "     - 모델이 훈련 세트에 과대적합되지 않도록 만드는 것\n",
    "     - 선형 회귀 모델의 경우 특성에 곱해지는 계수(또는 기울기)의 크기를 작게 만드는 일"
   ]
  },
  {
   "cell_type": "code",
   "execution_count": 15,
   "id": "81b20010-5f46-47b1-9a13-ae0253f49b48",
   "metadata": {},
   "outputs": [],
   "source": [
    "### 아까의 55개의 특성을 규제하여 해보기"
   ]
  },
  {
   "cell_type": "code",
   "execution_count": 16,
   "id": "31a07c52-0f1f-4845-847d-5d49d02722e8",
   "metadata": {},
   "outputs": [],
   "source": [
    "## 특성의 스케일이 정규화되지 않으면 여기에 곱해지는 계수 값도 차이 나게 됨\n",
    "## 그렇기 때문에 규제를 하기 전에 먼저 정규화를 하기"
   ]
  },
  {
   "cell_type": "code",
   "execution_count": 17,
   "id": "25320fc8-1a23-41df-8f1c-033414de681f",
   "metadata": {},
   "outputs": [],
   "source": [
    "# 정규화 하기\n",
    "from sklearn.preprocessing import StandardScaler\n",
    "\n",
    "ss = StandardScaler() # 객체 ss를 초기화한후\n",
    "ss.fit(train_poly) # 훈련시키기\n",
    "\n",
    "train_scaled = ss.transform(train_poly) # 표준점수로 변환하기\n",
    "test_scaled = ss.transform(test_poly)"
   ]
  },
  {
   "cell_type": "code",
   "execution_count": 18,
   "id": "456c3852-41b0-42c5-8ebc-435b22c2e934",
   "metadata": {},
   "outputs": [
    {
     "data": {
      "text/plain": [
       "array([[-0.01877179, -0.03671528, -0.33650731, -0.17107192, -0.18682259,\n",
       "        -0.339169  , -0.20495202, -0.34447465, -0.46762602, -0.29416864,\n",
       "        -0.30733855, -0.39953457, -0.32146316, -0.40768331, -0.48345051,\n",
       "        -0.33606682, -0.4166621 , -0.4876138 , -0.54833698, -0.38586174,\n",
       "        -0.39672658, -0.4558251 , -0.40783469, -0.46389993, -0.51240899,\n",
       "        -0.41887519, -0.47209532, -0.5181563 , -0.55680753, -0.42955689,\n",
       "        -0.48010881, -0.52389823, -0.56064502, -0.59034775, -0.44925651,\n",
       "        -0.45824669, -0.49691299, -0.46710257, -0.50427411, -0.53559153,\n",
       "        -0.47560005, -0.51140846, -0.54154357, -0.56594505, -0.48352442,\n",
       "        -0.51808998, -0.54717445, -0.57068637, -0.58873086, -0.49067328,\n",
       "        -0.52410124, -0.55225561, -0.57501254, -0.59244496, -0.60478372],\n",
       "       [-1.05148456, -0.94693222, -0.94955375, -0.99120768, -0.94680064,\n",
       "        -0.94787136, -0.90735024, -0.90940806, -0.90598084, -0.90716014,\n",
       "        -0.8843051 , -0.88556458, -0.86319432, -0.86528686, -0.86291614,\n",
       "        -0.84347386, -0.84647009, -0.84506475, -0.83968278, -0.82698753,\n",
       "        -0.81508087, -0.81629217, -0.80363956, -0.80575673, -0.80384069,\n",
       "        -0.79238932, -0.79551385, -0.79453924, -0.78982362, -0.7810766 ,\n",
       "        -0.78528154, -0.78535804, -0.78163081, -0.77449607, -0.75837262,\n",
       "        -0.75271836, -0.75367286, -0.74696385, -0.74885194, -0.74705938,\n",
       "        -0.74090075, -0.74382505, -0.74294794, -0.73860125, -0.73433596,\n",
       "        -0.73837497, -0.73852522, -0.73509309, -0.72845138, -0.72709564,\n",
       "        -0.73229923, -0.73356738, -0.73117116, -0.72546027, -0.71682879],\n",
       "       [-0.07429398, -0.26354029, -0.26231553, -0.22347405, -0.32336203,\n",
       "        -0.32382675, -0.40644683, -0.40588348, -0.40580394, -0.3401098 ,\n",
       "        -0.40244968, -0.40344885, -0.45602704, -0.45677136, -0.45688259,\n",
       "        -0.5014982 , -0.50237773, -0.50207525, -0.50079493, -0.42415501,\n",
       "        -0.46545638, -0.46653962, -0.50140693, -0.50268513, -0.50252756,\n",
       "        -0.53225351, -0.53399018, -0.53390289, -0.53219727, -0.55822398,\n",
       "        -0.56064037, -0.56090061, -0.55921618, -0.55582134, -0.47996853,\n",
       "        -0.50821859, -0.5091423 , -0.53293834, -0.53430981, -0.53375779,\n",
       "        -0.55421169, -0.55622783, -0.55601693, -0.5538023 , -0.57211225,\n",
       "        -0.57494136, -0.5752788 , -0.57334724, -0.5694026 , -0.5867096 ,\n",
       "        -0.59048565, -0.59155265, -0.5901208 , -0.58644677, -0.58080951],\n",
       "       [-0.09650286,  0.13781357,  0.19276141, -0.24417053, -0.13534408,\n",
       "        -0.10793515, -0.03795716, -0.00905862,  0.01483642, -0.35802524,\n",
       "        -0.29772641, -0.28205894, -0.2412584 , -0.22470317, -0.20950059,\n",
       "        -0.18843315, -0.17088804, -0.15497816, -0.14113931, -0.43889903,\n",
       "        -0.40380737, -0.39445631, -0.3700019 , -0.36030986, -0.35025634,\n",
       "        -0.33740003, -0.3273276 , -0.3170267 , -0.30685339, -0.30595384,\n",
       "        -0.29544772, -0.2848511 , -0.27451895, -0.26475106, -0.49164361,\n",
       "        -0.47122166, -0.46550139, -0.45104512, -0.44538327, -0.43842526,\n",
       "        -0.43104191, -0.4254392 , -0.41857003, -0.4107524 , -0.41116535,\n",
       "        -0.40560613, -0.39882623, -0.39113944, -0.38284535, -0.39139424,\n",
       "        -0.38584745, -0.37914225, -0.37158501, -0.3634708 , -0.35506663],\n",
       "       [ 0.86958329,  0.93166636,  1.10229136,  0.79577091,  0.83040281,\n",
       "         0.9432128 ,  0.85284162,  0.96725789,  1.06906464,  0.68834881,\n",
       "         0.71175712,  0.80017058,  0.72858989,  0.81909257,  0.90199789,\n",
       "         0.73931726,  0.83168727,  0.91689133,  0.99333585,  0.5682552 ,\n",
       "         0.58570399,  0.65873072,  0.59896233,  0.67411797,  0.74389893,\n",
       "         0.60810083,  0.68527815,  0.75728195,  0.82284972,  0.61318113,\n",
       "         0.69222936,  0.76638053,  0.83430196,  0.89494307,  0.44670698,\n",
       "         0.46040494,  0.52185164,  0.47123077,  0.5346562 ,  0.59407843,\n",
       "         0.4791368 ,  0.54448498,  0.60594226,  0.66246951,  0.4840782 ,\n",
       "         0.55125378,  0.61471353,  0.673347  ,  0.72626785,  0.48602293,\n",
       "         0.55488437,  0.620272  ,  0.68100508,  0.73612631,  0.78491095]])"
      ]
     },
     "execution_count": 18,
     "metadata": {},
     "output_type": "execute_result"
    }
   ],
   "source": [
    "train_scaled[:5]"
   ]
  },
  {
   "cell_type": "markdown",
   "id": "9093fd38-9980-4536-8307-01da4b89ebe6",
   "metadata": {},
   "source": [
    "##### ridge 모델\n",
    "    - 선형 회귀 모델에 규제를 추가한 모델\n",
    "    - 계수를 제곱한 값을 기준으로 규제를 적용, 일반적으로 릿지를 조금 더 선호"
   ]
  },
  {
   "cell_type": "code",
   "execution_count": 19,
   "id": "04c0d40f-d9cc-4135-b943-8496def3af9f",
   "metadata": {},
   "outputs": [
    {
     "name": "stdout",
     "output_type": "stream",
     "text": [
      "0.9938113907410925\n",
      "0.9597159675414173\n"
     ]
    }
   ],
   "source": [
    "from sklearn.linear_model import Ridge\n",
    "\n",
    "ridge = Ridge(alpha = 0.1) # alpha = 규제의 양을 임의로 조절할 수 있음 \n",
    "# alpha 값이 커지면 규제의 강도가 커지고, aplpha값이 작아지면 계수를 줄이는 역할이 줄어들고, 선형회귀 모델과 유사해지므로 과대적합될 가능성이 높아짐\n",
    "\n",
    "ridge.fit(train_scaled, train_target)\n",
    "print(ridge.score(train_scaled, train_target))\n",
    "print(ridge.score(test_scaled, test_target))"
   ]
  },
  {
   "cell_type": "markdown",
   "id": "9e482292-e7f8-4bc7-9fe6-853f059080f5",
   "metadata": {},
   "source": [
    "#### 적절한 alpha값을 찾는 법\n",
    "    - alpha 값에 대한 R^2의 값의 그래프를 그려보기\n",
    "    - 훈련 세트와 테스트 세트의 점수가 가장 가까운 지점이 최적의 alpha값이 됨\n"
   ]
  },
  {
   "cell_type": "code",
   "execution_count": 20,
   "id": "a885984e-2d51-42fc-acbc-1b933d9ccc17",
   "metadata": {},
   "outputs": [],
   "source": [
    "import matplotlib.pyplot as plt\n",
    "# alpha값을 바꿀 때마다 score() 메서드의 결과를 저장할 리스트를 만듦\n",
    "train_score = []\n",
    "test_score = []"
   ]
  },
  {
   "cell_type": "code",
   "execution_count": 21,
   "id": "6d3cf398-5f40-4d82-9234-439aa4a177e5",
   "metadata": {},
   "outputs": [],
   "source": [
    "alpha_list = [0.001, 0.01, 0.1, 1, 10, 100] # alpha값을 0.001에서 100까지 10배씩 늘려가며 릿지 회귀 모델을 훈련\n",
    "for alpha in alpha_list:\n",
    "    ridge = Ridge(alpha = alpha) # 릿지 모델을 만듦\n",
    "    ridge.fit(train_scaled, train_target) # 릿지 모델을 훈련시킴\n",
    "    train_score.append(ridge.score(train_scaled, train_target))\n",
    "    test_score.append(ridge.score(test_scaled, test_target)) # 훈련 점수와 테스트 점수를 저장\n",
    "    "
   ]
  },
  {
   "cell_type": "code",
   "execution_count": 22,
   "id": "a9d32d24-7d60-4473-a6bc-91bff2636f68",
   "metadata": {},
   "outputs": [],
   "source": [
    "# alpha값을 0.001부터 10배씩 늘렸기 때문에 그래프 왼쪽이 너무 촘촘해짐\n",
    "# 동일한 간격으로 나누기위해 로그함수로 바꾸어 지수로 표현 0.001은 10^-3이기 때문에 -3이 됨"
   ]
  },
  {
   "cell_type": "code",
   "execution_count": 23,
   "id": "e9509603-a31a-40f1-b270-a47ae52f4b2f",
   "metadata": {},
   "outputs": [
    {
     "data": {
      "image/png": "[encoded data removed]",
      "text/plain": [
       "<Figure size 640x480 with 1 Axes>"
      ]
     },
     "metadata": {},
     "output_type": "display_data"
    }
   ],
   "source": [
    "import numpy as np\n",
    "plt.plot(np.log10(alpha_list), train_score)\n",
    "plt.plot(np.log10(alpha_list), test_score)\n",
    "plt.xlabel('alpha')\n",
    "plt.ylabel('R^2')\n",
    "plt.show()\n",
    "# 여기서 두 그래프가 가장 가깝고 테스트 세트의 점수가 가장 높은 -1 즉 0.1의 값"
   ]
  },
  {
   "cell_type": "markdown",
   "id": "d0e8c970-b5be-4c87-8841-1bd3ac0a89c8",
   "metadata": {},
   "source": [
    "##### lasso 모델\n",
    "    - 계수의 절댓값을 기준으로 규제를 적용\n",
    "    - 계수의 크기를 아예 0으로 만들 수도 있음"
   ]
  },
  {
   "cell_type": "code",
   "execution_count": 24,
   "id": "2c84234d-bd51-4e80-bbbb-d11c7886b9bc",
   "metadata": {},
   "outputs": [
    {
     "name": "stdout",
     "output_type": "stream",
     "text": [
      "0.988945620099251\n",
      "0.9631783232948169\n"
     ]
    },
    {
     "name": "stderr",
     "output_type": "stream",
     "text": [
      "C:\\Users\\yerin\\Desktop\\DAMF\\ML\\venv\\Lib\\site-packages\\sklearn\\linear_model\\_coordinate_descent.py:695: ConvergenceWarning: Objective did not converge. You might want to increase the number of iterations, check the scale of the features or consider increasing regularisation. Duality gap: 6.606e+02, tolerance: 4.998e+02\n",
      "  model = cd_fast.enet_coordinate_descent(\n"
     ]
    }
   ],
   "source": [
    "# 릿지 모델과 매우 유사, 릿지 클래스를 라쏘 클래스로 바꾸는것이 전부\n",
    "from sklearn.linear_model import Lasso\n",
    "\n",
    "lasso = Lasso(alpha=10) # 위에서 한 방법으로 최적의 alpha값을 찾음\n",
    "lasso.fit(train_scaled, train_target)\n",
    "\n",
    "print(lasso.score(train_scaled, train_target))\n",
    "print(lasso.score(test_scaled, test_target))\n"
   ]
  },
  {
   "cell_type": "code",
   "execution_count": 25,
   "id": "8601cb4d-009a-4e63-8e7e-c7afe3fb41ec",
   "metadata": {},
   "outputs": [
    {
     "data": {
      "text/plain": [
       "array([  0.        ,   0.        ,   0.        ,   0.        ,\n",
       "        65.51364171,   7.55099741,  10.66776132,   0.        ,\n",
       "         5.64134932,  76.41222737, 112.53146241,   0.        ,\n",
       "        55.50521526,   0.        ,   0.        ,   0.13236143,\n",
       "         0.        ,   0.        ,   0.        ,   0.        ,\n",
       "         0.        ,   0.        ,   0.        ,   0.        ,\n",
       "         0.        ,   0.        ,   0.        ,   0.        ,\n",
       "         0.        ,   0.        ,   0.        ,   0.        ,\n",
       "         0.        ,   0.        ,   0.        ,   0.        ,\n",
       "         0.        ,   0.        ,   0.        ,   0.        ,\n",
       "         0.        ,   0.        ,   0.        ,   0.        ,\n",
       "         0.        ,   0.        ,   0.        ,   0.        ,\n",
       "         0.        ,   0.        ,   0.        ,   0.        ,\n",
       "         0.        ,   0.        ,   0.        ])"
      ]
     },
     "execution_count": 25,
     "metadata": {},
     "output_type": "execute_result"
    }
   ],
   "source": [
    "lasso.coef_ # 55개의 특성을 모델에 주입했지만 0이 40개이므로 라쏘모델이 사용한 특성은 15개밖에 되지 않음\n",
    "# 이러한 특징으로 라쏘 모델은 유용한 특성을 골라내는 용도로도 사용 가능"
   ]
  },
  {
   "cell_type": "code",
   "execution_count": null,
   "id": "3531df38-358d-4e75-94d6-743b628a2b72",
   "metadata": {},
   "outputs": [],
   "source": []
  }
 ],
 "metadata": {
  "kernelspec": {
   "display_name": "Python 3 (ipykernel)",
   "language": "python",
   "name": "python3"
  },
  "language_info": {
   "codemirror_mode": {
    "name": "ipython",
    "version": 3
   },
   "file_extension": ".py",
   "mimetype": "text/x-python",
   "name": "python",
   "nbconvert_exporter": "python",
   "pygments_lexer": "ipython3",
   "version": "3.13.2"
  }
 },
 "nbformat": 4,
 "nbformat_minor": 5
}
