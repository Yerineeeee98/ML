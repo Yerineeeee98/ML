{
 "cells": [
  {
   "cell_type": "markdown",
   "id": "e50da6ee-f6b7-4ad8-ba0a-69da73378492",
   "metadata": {},
   "source": [
    "##### 정형 데이터와 비정형 데이터\n",
    "    - 정형 데이터 : 구조로 되어있는 데이터, csv나 엑셀, DB에 저장하기 쉬움\n",
    "    - 비정형 데이터 : db나 엑셀로 표현하기 어려운 것들, 우리 주위의 카메라로 찍은 사진, 핸드폰으로 듣는 디지털 음악 등"
   ]
  },
  {
   "cell_type": "code",
   "execution_count": 1,
   "id": "2b3257dd-98a4-4e74-8868-4db63251dd4d",
   "metadata": {},
   "outputs": [],
   "source": [
    "#### 앙상블 학습 = 정형데이터를 다루는데 가장 성능이 좋음, 랜덤포레스트가 대표적"
   ]
  },
  {
   "cell_type": "markdown",
   "id": "1f04b3e4-043a-4d5d-b402-2c7c07484eb4",
   "metadata": {},
   "source": [
    "#### 랜덤 포레스트 : 앙상블 학습의 대표 주자 중 하나\n",
    "                    - 결정 트리를 랜덤하게 만들어 결정 트리의 숲을 만든 다음 각 결정 트리의 예측을 사용해 최종 예측을 만든다\n",
    "                    - 각 트리를 훈련하기 위한 데이터를 랜덤하게 만듦 (부트스트랩 샘플)\n",
    "                    - 부트스트랩 샘플 : 1000개의 샘플이 들어있는 가방에서 100개의 샘플을 뽑는다면 먼저 1개를 뽑고,\n",
    "                                        뽑았던 1개를 다시 가방에 넣음 이런식으로 계속 뽑으면 중복된 샘플을 뽑을 수 있음\n",
    "                                        기본적으로 훈련세트의 크기와 같게 만든다\n",
    "                    "
   ]
  },
  {
   "cell_type": "code",
   "execution_count": 2,
   "id": "43bcde86-4535-4d22-950c-aa4150d16431",
   "metadata": {},
   "outputs": [],
   "source": [
    "import pandas as pd\n",
    "\n",
    "df = pd.read_csv('https://bit.ly/wine_csv_data')\n",
    "\n",
    "data = df[['alcohol', 'sugar', 'pH']]\n",
    "target = df[['class']]"
   ]
  },
  {
   "cell_type": "code",
   "execution_count": 3,
   "id": "7f851a98-376b-4f8c-bbca-360268427c88",
   "metadata": {},
   "outputs": [],
   "source": [
    "from sklearn.model_selection import train_test_split\n",
    "\n",
    "train_input, test_input, train_target, test_target = \\\n",
    "train_test_split(data, target)"
   ]
  },
  {
   "cell_type": "markdown",
   "id": "9e5574b3-81b5-4541-a91c-2d9e64bc3616",
   "metadata": {},
   "source": [
    "##### RandomForestClassifier \n",
    " 전체 특성 개수의 제곱근만큼의 특성을 선택 (4개의 특성이 있다면 노드마다 2개를 랜덤하게 선택하여 사용) \n",
    "  - 각 트리의 클래스별 확률을 평균하여 가장 높은 확률을 가진 클래스를 예측으로 삼는다\n",
    "##### RandomForestRegressor = 전체 특성을 사용, 각 트리의 예측을 평균"
   ]
  },
  {
   "cell_type": "markdown",
   "id": "c5c09b74-314c-43f1-8ebc-2f41fccaf9f8",
   "metadata": {},
   "source": [
    "##### RandomForestClassifier \n",
    "    - n_estimators : 앙상블을 구성할 트리의 개수를 지정, 기본값은 100\n",
    "    - max_depth : 트리가 성장할 최대 깊이를 지정\n",
    "    - min_samples_split : 노드를 나누기 위한 최소 샘플 개수, 기본값은 2 "
   ]
  },
  {
   "cell_type": "code",
   "execution_count": 4,
   "id": "2c0819d3-6ad6-4673-bd7a-f7f77009048e",
   "metadata": {},
   "outputs": [
    {
     "name": "stdout",
     "output_type": "stream",
     "text": [
      "{'fit_time': array([0.15042853, 0.25396943, 0.15629959, 0.14746094, 0.15559959]), 'score_time': array([0.03900528, 0.01573801, 0.02992654, 0.02926326, 0.02865911]), 'test_score': array([0.88102564, 0.88410256, 0.86550308, 0.89527721, 0.88398357]), 'train_score': array([0.99717732, 0.99871696, 0.99769112, 0.99743458, 0.99717804])}\n"
     ]
    }
   ],
   "source": [
    "from sklearn.model_selection import cross_validate # 교차 검증을 수행\n",
    "from sklearn.ensemble import RandomForestClassifier # 기본적으로 100개의 결정 트리를 사용\n",
    "\n",
    "rf = RandomForestClassifier(n_jobs=-1) \n",
    "scores = cross_validate(\n",
    "    rf, train_input, train_target,\n",
    "    return_train_score=True, n_jobs =-1 # return_train_score : 검증 점수뿐만 아니라 훈련 세트에 대한 점수도 같이 반환\n",
    ")\n",
    "print(scores)\n",
    "# 훈련세트에 과대적합"
   ]
  },
  {
   "cell_type": "code",
   "execution_count": 5,
   "id": "896a49c8-5912-4220-839b-fb465ff7bc1e",
   "metadata": {},
   "outputs": [
    {
     "name": "stderr",
     "output_type": "stream",
     "text": [
      "C:\\Users\\yerin\\Desktop\\DAMF\\ML\\venv\\Lib\\site-packages\\sklearn\\base.py:1389: DataConversionWarning: A column-vector y was passed when a 1d array was expected. Please change the shape of y to (n_samples,), for example using ravel().\n",
      "  return fit_method(estimator, *args, **kwargs)\n"
     ]
    },
    {
     "data": {
      "text/plain": [
       "array([0.23044894, 0.49279823, 0.27675284])"
      ]
     },
     "execution_count": 5,
     "metadata": {},
     "output_type": "execute_result"
    }
   ],
   "source": [
    "rf.fit(train_input, train_target)\n",
    "rf.feature_importances_\n",
    "# alcohol = 0.23의 중요도, sugar = 0.49의 중요도, pH = 0.27의 중요도 \n",
    "# 특성의 일부를 랜덤하게 선택하여 결정 트리를 훈련하기 때문 "
   ]
  },
  {
   "cell_type": "markdown",
   "id": "6e016331-5aa2-470c-b072-6780520b8b6f",
   "metadata": {},
   "source": [
    "#### OOB 샘플 : 부트스트랩 샘플에 포함되지 않고 남는 샘플\n",
    "    - 이 샘플을 사용하여 부트스트랩 샘플로 훈련한 결정 트리 평가 가능, 검증 세트의 역할\n",
    "    - oob_score = True로 지정해서 얻기"
   ]
  },
  {
   "cell_type": "code",
   "execution_count": 6,
   "id": "a944e97b-5cdc-4967-a412-b6258323b7b9",
   "metadata": {},
   "outputs": [
    {
     "name": "stderr",
     "output_type": "stream",
     "text": [
      "C:\\Users\\yerin\\Desktop\\DAMF\\ML\\venv\\Lib\\site-packages\\sklearn\\base.py:1389: DataConversionWarning: A column-vector y was passed when a 1d array was expected. Please change the shape of y to (n_samples,), for example using ravel().\n",
      "  return fit_method(estimator, *args, **kwargs)\n"
     ]
    },
    {
     "data": {
      "text/plain": [
       "0.8920361247947455"
      ]
     },
     "execution_count": 6,
     "metadata": {},
     "output_type": "execute_result"
    }
   ],
   "source": [
    "rf = RandomForestClassifier(oob_score = True, n_jobs=1) \n",
    "rf.fit(train_input, train_target)\n",
    "rf.oob_score_"
   ]
  },
  {
   "cell_type": "markdown",
   "id": "b075c850-865f-4db6-831d-ca6a1a73f4cf",
   "metadata": {},
   "source": [
    "#### ExtraTreesClassifier \n",
    "    - 랜덤 포레스트와 매우 비슷하게 동작\n",
    "    - 기본적으로 100개의 결정 트리를 훈련\n",
    "    - 부트스트랩 샘플을 사용하지 않음 \n",
    "    - 결정 트리를 만들 때 전체 훈련 세트를 사용\n",
    "    - 노드를 분할할 때 가장 좋은 분할을 찾는 것이 아니라 무작위로 분할"
   ]
  },
  {
   "cell_type": "code",
   "execution_count": 7,
   "id": "d76dca69-0875-44b0-91c8-27f94c4efe2c",
   "metadata": {},
   "outputs": [
    {
     "name": "stderr",
     "output_type": "stream",
     "text": [
      "C:\\Users\\yerin\\Desktop\\DAMF\\ML\\venv\\Lib\\site-packages\\sklearn\\base.py:1389: DataConversionWarning: A column-vector y was passed when a 1d array was expected. Please change the shape of y to (n_samples,), for example using ravel().\n",
      "  return fit_method(estimator, *args, **kwargs)\n",
      "C:\\Users\\yerin\\Desktop\\DAMF\\ML\\venv\\Lib\\site-packages\\sklearn\\base.py:1389: DataConversionWarning: A column-vector y was passed when a 1d array was expected. Please change the shape of y to (n_samples,), for example using ravel().\n",
      "  return fit_method(estimator, *args, **kwargs)\n",
      "C:\\Users\\yerin\\Desktop\\DAMF\\ML\\venv\\Lib\\site-packages\\sklearn\\base.py:1389: DataConversionWarning: A column-vector y was passed when a 1d array was expected. Please change the shape of y to (n_samples,), for example using ravel().\n",
      "  return fit_method(estimator, *args, **kwargs)\n",
      "C:\\Users\\yerin\\Desktop\\DAMF\\ML\\venv\\Lib\\site-packages\\sklearn\\base.py:1389: DataConversionWarning: A column-vector y was passed when a 1d array was expected. Please change the shape of y to (n_samples,), for example using ravel().\n",
      "  return fit_method(estimator, *args, **kwargs)\n",
      "C:\\Users\\yerin\\Desktop\\DAMF\\ML\\venv\\Lib\\site-packages\\sklearn\\base.py:1389: DataConversionWarning: A column-vector y was passed when a 1d array was expected. Please change the shape of y to (n_samples,), for example using ravel().\n",
      "  return fit_method(estimator, *args, **kwargs)\n"
     ]
    },
    {
     "name": "stdout",
     "output_type": "stream",
     "text": [
      "{'fit_time': array([0.17251039, 0.19251752, 0.20312881, 0.19996881, 0.19782972]), 'score_time': array([0.01986337, 0.01992369, 0.02100539, 0.02108383, 0.0221715 ]), 'test_score': array([0.88923077, 0.88512821, 0.86550308, 0.88603696, 0.88501027]), 'train_score': array([0.99717732, 0.99871696, 0.99769112, 0.99769112, 0.99743458])}\n"
     ]
    }
   ],
   "source": [
    "from sklearn.ensemble import ExtraTreesClassifier\n",
    "er = ExtraTreesClassifier()\n",
    "\n",
    "scores = cross_validate(er, train_input, train_target, return_train_score = True)\n",
    "\n",
    "print(scores)"
   ]
  },
  {
   "cell_type": "markdown",
   "id": "fb626890-e598-4c7d-ac8a-5c8f1de29aa3",
   "metadata": {},
   "source": [
    "#### GradientBoostingClassifier\n",
    "    - 깊이가 얕은 결정 트리를 사용하여 이전 트리의 오차를 보완하는 방식으로 앙상블 하는 방법\n",
    "    - 기본적으로 깊이가 3인 결정 트리를 100개 사용\n",
    "    - 경사 하강법을 사용하여 트리를 앙상블에 추가\n",
    "    - 분류에서는 로지스틱 손실 함수를 사용, 회귀에서는 평균 제곱 오차 함수를 사용\n",
    "    - 결정 트리를 계속 추가하면서 가장 낮은 곳을 찾아 이동\n",
    "    - 랜덤 포레스트보다 조금 더 높은 성능을 얻지만 순서대로 트리를 추가하기 때문에 훈련 속도가 느림"
   ]
  },
  {
   "cell_type": "code",
   "execution_count": 8,
   "id": "7a0f2dcd-6683-459f-988f-a1bdd8b7a817",
   "metadata": {},
   "outputs": [
    {
     "name": "stderr",
     "output_type": "stream",
     "text": [
      "C:\\Users\\yerin\\Desktop\\DAMF\\ML\\venv\\Lib\\site-packages\\sklearn\\preprocessing\\_label.py:110: DataConversionWarning: A column-vector y was passed when a 1d array was expected. Please change the shape of y to (n_samples, ), for example using ravel().\n",
      "  y = column_or_1d(y, warn=True)\n",
      "C:\\Users\\yerin\\Desktop\\DAMF\\ML\\venv\\Lib\\site-packages\\sklearn\\preprocessing\\_label.py:110: DataConversionWarning: A column-vector y was passed when a 1d array was expected. Please change the shape of y to (n_samples, ), for example using ravel().\n",
      "  y = column_or_1d(y, warn=True)\n",
      "C:\\Users\\yerin\\Desktop\\DAMF\\ML\\venv\\Lib\\site-packages\\sklearn\\preprocessing\\_label.py:110: DataConversionWarning: A column-vector y was passed when a 1d array was expected. Please change the shape of y to (n_samples, ), for example using ravel().\n",
      "  y = column_or_1d(y, warn=True)\n",
      "C:\\Users\\yerin\\Desktop\\DAMF\\ML\\venv\\Lib\\site-packages\\sklearn\\preprocessing\\_label.py:110: DataConversionWarning: A column-vector y was passed when a 1d array was expected. Please change the shape of y to (n_samples, ), for example using ravel().\n",
      "  y = column_or_1d(y, warn=True)\n",
      "C:\\Users\\yerin\\Desktop\\DAMF\\ML\\venv\\Lib\\site-packages\\sklearn\\preprocessing\\_label.py:110: DataConversionWarning: A column-vector y was passed when a 1d array was expected. Please change the shape of y to (n_samples, ), for example using ravel().\n",
      "  y = column_or_1d(y, warn=True)\n"
     ]
    },
    {
     "name": "stdout",
     "output_type": "stream",
     "text": [
      "{'fit_time': array([1.16945338, 1.17166662, 1.1711216 , 1.17437959, 1.26271605]), 'score_time': array([0.01049948, 0.00853062, 0.010988  , 0.00731707, 0.00752497]), 'test_score': array([0.8625641 , 0.87487179, 0.85728953, 0.88193018, 0.88706366]), 'train_score': array([0.92250449, 0.92301771, 0.93099025, 0.91995895, 0.91944587])}\n"
     ]
    }
   ],
   "source": [
    "from sklearn.ensemble import GradientBoostingClassifier\n",
    "gb = GradientBoostingClassifier(n_estimators = 500) # n_estimaros = 나무를 500그루 심기\n",
    "scores = cross_validate(\n",
    "    gb, train_input, train_target,\n",
    "    return_train_score = True\n",
    ")\n",
    "print(scores)\n",
    "# 과대적합이 되지않음"
   ]
  },
  {
   "cell_type": "markdown",
   "id": "85416dbb-3f0e-46c5-b1ba-ad09edaa0b90",
   "metadata": {},
   "source": [
    "#### HistGradientBoostingClassifier \n",
    "    - 입력 특성을 256개의 구간으로 나눠서 노드를 분할할m 때 최적의 분할을 매우 빠르게 찾을 수 있음\n",
    "    - 그레이디언트 부스팅의 속도를 개선"
   ]
  },
  {
   "cell_type": "code",
   "execution_count": 11,
   "id": "bf14166d-18da-45cc-ba93-8d835adc79cb",
   "metadata": {},
   "outputs": [
    {
     "name": "stderr",
     "output_type": "stream",
     "text": [
      "C:\\Users\\yerin\\Desktop\\DAMF\\ML\\venv\\Lib\\site-packages\\sklearn\\utils\\validation.py:1408: DataConversionWarning: A column-vector y was passed when a 1d array was expected. Please change the shape of y to (n_samples, ), for example using ravel().\n",
      "  y = column_or_1d(y, warn=True)\n",
      "C:\\Users\\yerin\\Desktop\\DAMF\\ML\\venv\\Lib\\site-packages\\joblib\\externals\\loky\\backend\\context.py:136: UserWarning: Could not find the number of physical cores for the following reason:\n",
      "[WinError 2] 지정된 파일을 찾을 수 없습니다\n",
      "Returning the number of logical cores instead. You can silence this warning by setting LOKY_MAX_CPU_COUNT to the number of cores you want to use.\n",
      "  warnings.warn(\n",
      "  File \"C:\\Users\\yerin\\Desktop\\DAMF\\ML\\venv\\Lib\\site-packages\\joblib\\externals\\loky\\backend\\context.py\", line 257, in _count_physical_cores\n",
      "    cpu_info = subprocess.run(\n",
      "        \"wmic CPU Get NumberOfCores /Format:csv\".split(),\n",
      "        capture_output=True,\n",
      "        text=True,\n",
      "    )\n",
      "  File \"C:\\Users\\yerin\\AppData\\Local\\Programs\\Python\\Python313\\Lib\\subprocess.py\", line 556, in run\n",
      "    with Popen(*popenargs, **kwargs) as process:\n",
      "         ~~~~~^^^^^^^^^^^^^^^^^^^^^^\n",
      "  File \"C:\\Users\\yerin\\AppData\\Local\\Programs\\Python\\Python313\\Lib\\subprocess.py\", line 1038, in __init__\n",
      "    self._execute_child(args, executable, preexec_fn, close_fds,\n",
      "    ~~~~~~~~~~~~~~~~~~~^^^^^^^^^^^^^^^^^^^^^^^^^^^^^^^^^^^^^^^^^\n",
      "                        pass_fds, cwd, env,\n",
      "                        ^^^^^^^^^^^^^^^^^^^\n",
      "    ...<5 lines>...\n",
      "                        gid, gids, uid, umask,\n",
      "                        ^^^^^^^^^^^^^^^^^^^^^^\n",
      "                        start_new_session, process_group)\n",
      "                        ^^^^^^^^^^^^^^^^^^^^^^^^^^^^^^^^^\n",
      "  File \"C:\\Users\\yerin\\AppData\\Local\\Programs\\Python\\Python313\\Lib\\subprocess.py\", line 1550, in _execute_child\n",
      "    hp, ht, pid, tid = _winapi.CreateProcess(executable, args,\n",
      "                       ~~~~~~~~~~~~~~~~~~~~~^^^^^^^^^^^^^^^^^^\n",
      "                             # no special security\n",
      "                             ^^^^^^^^^^^^^^^^^^^^^\n",
      "    ...<4 lines>...\n",
      "                             cwd,\n",
      "                             ^^^^\n",
      "                             startupinfo)\n",
      "                             ^^^^^^^^^^^^\n",
      "C:\\Users\\yerin\\Desktop\\DAMF\\ML\\venv\\Lib\\site-packages\\sklearn\\utils\\validation.py:1408: DataConversionWarning: A column-vector y was passed when a 1d array was expected. Please change the shape of y to (n_samples, ), for example using ravel().\n",
      "  y = column_or_1d(y, warn=True)\n",
      "C:\\Users\\yerin\\Desktop\\DAMF\\ML\\venv\\Lib\\site-packages\\sklearn\\utils\\validation.py:1408: DataConversionWarning: A column-vector y was passed when a 1d array was expected. Please change the shape of y to (n_samples, ), for example using ravel().\n",
      "  y = column_or_1d(y, warn=True)\n",
      "C:\\Users\\yerin\\Desktop\\DAMF\\ML\\venv\\Lib\\site-packages\\sklearn\\utils\\validation.py:1408: DataConversionWarning: A column-vector y was passed when a 1d array was expected. Please change the shape of y to (n_samples, ), for example using ravel().\n",
      "  y = column_or_1d(y, warn=True)\n",
      "C:\\Users\\yerin\\Desktop\\DAMF\\ML\\venv\\Lib\\site-packages\\sklearn\\utils\\validation.py:1408: DataConversionWarning: A column-vector y was passed when a 1d array was expected. Please change the shape of y to (n_samples, ), for example using ravel().\n",
      "  y = column_or_1d(y, warn=True)\n"
     ]
    },
    {
     "name": "stdout",
     "output_type": "stream",
     "text": [
      "{'fit_time': array([0.38345194, 0.34235525, 0.34039235, 0.33846092, 0.33990932]), 'score_time': array([0.00674987, 0.00656939, 0.0064919 , 0.00643468, 0.0067513 ]), 'test_score': array([0.86564103, 0.87794872, 0.86036961, 0.88911704, 0.89117043]), 'train_score': array([0.93199897, 0.9363613 , 0.94099538, 0.93329913, 0.93073371])}\n"
     ]
    }
   ],
   "source": [
    "from sklearn.ensemble import HistGradientBoostingClassifier\n",
    "\n",
    "hgb = HistGradientBoostingClassifier() # max_iter 로 부스팅 반복 횟수 지정\n",
    "scores = cross_validate(\n",
    "    hgb, train_input, train_target,\n",
    "    return_train_score =True\n",
    ")\n",
    "print(scores)"
   ]
  },
  {
   "cell_type": "code",
   "execution_count": 12,
   "id": "d13710dc-9437-4a34-92d5-0c51c07bb3d3",
   "metadata": {},
   "outputs": [
    {
     "name": "stderr",
     "output_type": "stream",
     "text": [
      "C:\\Users\\yerin\\Desktop\\DAMF\\ML\\venv\\Lib\\site-packages\\sklearn\\utils\\validation.py:1408: DataConversionWarning: A column-vector y was passed when a 1d array was expected. Please change the shape of y to (n_samples, ), for example using ravel().\n",
      "  y = column_or_1d(y, warn=True)\n"
     ]
    },
    {
     "name": "stdout",
     "output_type": "stream",
     "text": [
      "{'importances_mean': array([0.0952381 , 0.24035304, 0.09166667]), 'importances_std': array([0.00186319, 0.00626884, 0.00379715]), 'importances': array([[0.09462233, 0.0979064 , 0.09256979, 0.09667488, 0.09441708],\n",
      "       [0.23522167, 0.24835796, 0.24671593, 0.23234811, 0.23912151],\n",
      "       [0.09482759, 0.08723317, 0.09729064, 0.08866995, 0.09031199]])}\n"
     ]
    }
   ],
   "source": [
    "# permutation_importance : 히스토그램 기반 그레이디언트 부스팅의 특성 중요도 계산\n",
    "\n",
    "from sklearn.inspection import permutation_importance\n",
    "\n",
    "hgb.fit(train_input, train_target)\n",
    "scores = permutation_importance(hgb, train_input, train_target) \n",
    "# 특성을 하나씩 랜덤하게 섞어서 모델의 성능이 변화하는지를 관찰하여 어떤 특성이 중요한지 관찰\n",
    "print(scores) \n",
    "# importances : 반복하여 얻은 특성 중요도\n",
    "# 'importances_mean' : 평균 (가장 중요)"
   ]
  },
  {
   "cell_type": "code",
   "execution_count": 13,
   "id": "2241d5de-afd8-4279-8f7a-88e5aae441ba",
   "metadata": {},
   "outputs": [
    {
     "data": {
      "text/plain": [
       "0.8744615384615385"
      ]
     },
     "execution_count": 13,
     "metadata": {},
     "output_type": "execute_result"
    }
   ],
   "source": [
    "hgb.score(test_input, test_target)"
   ]
  }
 ],
 "metadata": {
  "kernelspec": {
   "display_name": "Python 3 (ipykernel)",
   "language": "python",
   "name": "python3"
  },
  "language_info": {
   "codemirror_mode": {
    "name": "ipython",
    "version": 3
   },
   "file_extension": ".py",
   "mimetype": "text/x-python",
   "name": "python",
   "nbconvert_exporter": "python",
   "pygments_lexer": "ipython3",
   "version": "3.13.2"
  }
 },
 "nbformat": 4,
 "nbformat_minor": 5
}
