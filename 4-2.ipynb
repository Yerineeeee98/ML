{
 "cells": [
  {
   "cell_type": "markdown",
   "id": "78185da6-c747-4693-a2b6-e3127fde6db0",
   "metadata": {},
   "source": [
    "### 점진적 학습 알고리즘\n",
    "    - 앞서 훈련한 모델을 버리지 않고 새로운 데이터에 대해서만 조금씩 더 훈련하기\n",
    "    - 대표적으로 확률적 경사 하강법이 있다.\n",
    "    "
   ]
  },
  {
   "cell_type": "markdown",
   "id": "e7795467-d7a8-4462-84f4-9110f0660b1f",
   "metadata": {},
   "source": [
    "#### 확률적 경사 하강법\n",
    "    - 훈련 세트에서 랜덤하게 하나의 샘플을 선택하여 가파른 경사를 조금 내려감 \n",
    "      > 그 다음 훈련 세트에서 랜덤하게 또 다른 샘플을 하나 선택하여 경사를 조금 내려감 \n",
    "      > 전체 샘플을 모두 사용할 때까지 계속\n",
    "      > 만약 그래도 다 사용하지 못했다면 다시 처음부터 시작 ( 훈련세트에 모든 샘플을 다시 채워넣기)\n",
    "    - 에포크 : 확률적 경사 하강법에서 훈련 세트를 한 번 모두 사용하는 과정\n",
    "    - 일반적으로 수십, 수백 번 이상 에포크를 수행\n",
    "##### 미니배치 경사 하강법\n",
    "    - 1개씩 말고 무작위로 몇 개의 샘플을 선택해서 경사를 따라 내려가기\n",
    "\n",
    "##### 배치 경사 하강법\n",
    "    - 전체 샘플을 사용하기 "
   ]
  },
  {
   "cell_type": "markdown",
   "id": "2e024c23-98c3-4d1c-9105-bfe3cce0fb5f",
   "metadata": {},
   "source": [
    "##### 손실함수 : 어떤 문제에서 머신러닝 알고리즘이 얼마나 엉터리인지를 측정하는 기준\n",
    "         - 확률적 경사 하강법에서 내려가야 하는 산을 의미\n",
    "         - 미분 가능해야 함\n",
    "         - 작을수록 좋음\n",
    "###### 로지스틱 손실 함수(이진 크로스엔트로피 손실 함수)\n",
    "        - 예측  정답\n",
    "          0.9 * 1   > -0.9\n",
    "        - 만약 예측이 0.2 정답이 0이라면 에측을 1 - 0.2 = 0.8로 하고 정답을 1로 바꿔서 계산하기\n",
    "        - 이 손실 함수를 사용하면 로지스틱 회귀 모델이 만들어짐\n",
    "        - 이진 분류에서 쓰는 손실 함수\n",
    "######  크로스엔트로피 손실 함수\n",
    "        - 다중 분류에서 쓰는 손실 함수"
   ]
  },
  {
   "cell_type": "code",
   "execution_count": 1,
   "id": "3f90acd5-4c1a-4e7b-977f-2546e8f11cd7",
   "metadata": {},
   "outputs": [],
   "source": [
    "import pandas as pd\n",
    "\n",
    "df = pd.read_csv('data/Fish.csv')"
   ]
  },
  {
   "cell_type": "code",
   "execution_count": 2,
   "id": "074294c5-a88e-4aaa-9c44-46e71177257f",
   "metadata": {},
   "outputs": [],
   "source": [
    "fish_input = df[['Weight', 'Length2', 'Length3', 'Height', 'Width']]\n",
    "fish_target = df[['Species']]"
   ]
  },
  {
   "cell_type": "code",
   "execution_count": 3,
   "id": "d1d04f99-821d-4b60-b7c8-e5e27d5c277f",
   "metadata": {},
   "outputs": [],
   "source": [
    "from sklearn.model_selection import train_test_split\n",
    "\n",
    "train_input, test_input, train_target, test_target = \\\n",
    "train_test_split(fish_input, fish_target)"
   ]
  },
  {
   "cell_type": "code",
   "execution_count": 4,
   "id": "bba8d9b9-54c6-4c7f-832e-b355dae72078",
   "metadata": {},
   "outputs": [],
   "source": [
    "from sklearn.preprocessing import StandardScaler\n",
    "\n",
    "ss = StandardScaler()\n",
    "ss.fit(train_input)\n",
    "train_scaled = ss.transform(train_input)\n",
    "test_scaled = ss.transform(test_input)"
   ]
  },
  {
   "cell_type": "markdown",
   "id": "afaad810-48a6-4743-8a6c-9c257d1a077a",
   "metadata": {},
   "source": [
    "##### 확률적 경사 하강법을 사용한 분류 모델\n",
    "    - SGDClassifier : 확률적 경사 하강법을 제공하는 대표적인 분류용 클래스"
   ]
  },
  {
   "cell_type": "code",
   "execution_count": 5,
   "id": "990c43c3-53ed-4c17-9e01-c91e0162be40",
   "metadata": {},
   "outputs": [
    {
     "name": "stdout",
     "output_type": "stream",
     "text": [
      "0.8067226890756303\n",
      "0.775\n"
     ]
    },
    {
     "name": "stderr",
     "output_type": "stream",
     "text": [
      "C:\\Users\\yerin\\Desktop\\DAMF\\ML\\venv\\Lib\\site-packages\\sklearn\\utils\\validation.py:1408: DataConversionWarning: A column-vector y was passed when a 1d array was expected. Please change the shape of y to (n_samples, ), for example using ravel().\n",
      "  y = column_or_1d(y, warn=True)\n"
     ]
    }
   ],
   "source": [
    "from sklearn.linear_model import SGDClassifier\n",
    "\n",
    "sc = SGDClassifier(loss = 'hinge', max_iter=100) \n",
    "# loss는 손실 함수의 종류를 지정, hinge는 loss 매개변수의 기본값\n",
    "# max_iter = 수행할 에포크 횟수를 지정\n",
    "sc.fit(train_scaled, train_target)\n",
    "\n",
    "print(sc.score(train_scaled, train_target))\n",
    "\n",
    "print(sc.score(test_scaled, test_target))"
   ]
  },
  {
   "cell_type": "code",
   "execution_count": 6,
   "id": "f50a2f53-6815-4f8d-b022-c6a51c2cf230",
   "metadata": {},
   "outputs": [
    {
     "name": "stdout",
     "output_type": "stream",
     "text": [
      "0.8403361344537815\n",
      "0.775\n"
     ]
    },
    {
     "name": "stderr",
     "output_type": "stream",
     "text": [
      "C:\\Users\\yerin\\Desktop\\DAMF\\ML\\venv\\Lib\\site-packages\\sklearn\\utils\\validation.py:1408: DataConversionWarning: A column-vector y was passed when a 1d array was expected. Please change the shape of y to (n_samples, ), for example using ravel().\n",
      "  y = column_or_1d(y, warn=True)\n"
     ]
    }
   ],
   "source": [
    "# partial_fit() 메서드는 fit()매서드와 사용법이 같지만 호출할 때마다 1 에포크씩 이어서 훈련\n",
    "sc.partial_fit(train_scaled, train_target)\n",
    "print(sc.score(train_scaled, train_target))\n",
    "\n",
    "print(sc.score(test_scaled, test_target))"
   ]
  },
  {
   "cell_type": "code",
   "execution_count": null,
   "id": "e55f89ef-5558-4269-8ce5-5d02a881b165",
   "metadata": {},
   "outputs": [],
   "source": []
  },
  {
   "cell_type": "code",
   "execution_count": null,
   "id": "d0ca5e0d-d18a-4226-a021-99d5d344a5ba",
   "metadata": {},
   "outputs": [],
   "source": []
  },
  {
   "cell_type": "code",
   "execution_count": null,
   "id": "7b3c54b7-bf78-4333-9b18-5b6426ea3a60",
   "metadata": {},
   "outputs": [],
   "source": []
  },
  {
   "cell_type": "code",
   "execution_count": null,
   "id": "f8dbdeb8-0871-4faa-9700-43f088e62471",
   "metadata": {},
   "outputs": [],
   "source": []
  },
  {
   "cell_type": "code",
   "execution_count": null,
   "id": "bba015e5-bdf9-452f-a352-e9aa1c3d905b",
   "metadata": {},
   "outputs": [],
   "source": []
  },
  {
   "cell_type": "code",
   "execution_count": null,
   "id": "f565a554-5e99-4dc0-bf6a-e3b14241044a",
   "metadata": {},
   "outputs": [],
   "source": []
  },
  {
   "cell_type": "code",
   "execution_count": null,
   "id": "ff788bfc-b554-41b9-bed7-067d29eb6304",
   "metadata": {},
   "outputs": [],
   "source": []
  }
 ],
 "metadata": {
  "kernelspec": {
   "display_name": "Python 3 (ipykernel)",
   "language": "python",
   "name": "python3"
  },
  "language_info": {
   "codemirror_mode": {
    "name": "ipython",
    "version": 3
   },
   "file_extension": ".py",
   "mimetype": "text/x-python",
   "name": "python",
   "nbconvert_exporter": "python",
   "pygments_lexer": "ipython3",
   "version": "3.13.2"
  }
 },
 "nbformat": 4,
 "nbformat_minor": 5
}
